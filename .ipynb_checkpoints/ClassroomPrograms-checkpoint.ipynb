{
 "cells": [
  {
   "cell_type": "code",
   "execution_count": 3,
   "id": "eb996799",
   "metadata": {},
   "outputs": [
    {
     "name": "stdout",
     "output_type": "stream",
     "text": [
      "Program 1: Factorial\n"
     ]
    }
   ],
   "source": [
    "print(\"1. Compute factorial of a number using recursion\")"
   ]
  },
  {
   "cell_type": "code",
   "execution_count": 4,
   "id": "4f512569",
   "metadata": {},
   "outputs": [
    {
     "name": "stdout",
     "output_type": "stream",
     "text": [
      "Enter a number : 52\n",
      "The factorial of a number is  80658175170943878571660636856403766975289505440883277824000000000000\n"
     ]
    }
   ],
   "source": [
    "def fact(n):\n",
    "    if n==1 or n==0:\n",
    "        return 1\n",
    "    else:\n",
    "        return n*fact(n-1)\n",
    "num=int(input('Enter a number : '))\n",
    "print(\"The factorial of a number is \",fact(num))"
   ]
  },
  {
   "cell_type": "code",
   "execution_count": 9,
   "id": "c9a58e3e",
   "metadata": {},
   "outputs": [
    {
     "name": "stdout",
     "output_type": "stream",
     "text": [
      "2. Create a user defined function called fib and store it in a separate file. Import and call the function in a new file to display nth Fibonacci number.\n"
     ]
    }
   ],
   "source": [
    "print(\"2. Create a user defined function called fib and store it in a separate file. Import and call the function in a new file to display nth Fibonacci number.\")"
   ]
  },
  {
   "cell_type": "code",
   "execution_count": 7,
   "id": "0ac6c423",
   "metadata": {},
   "outputs": [
    {
     "name": "stdout",
     "output_type": "stream",
     "text": [
      "3\n"
     ]
    }
   ],
   "source": [
    "import Fibonacci as m\n",
    "print(m.fib(5))"
   ]
  },
  {
   "cell_type": "code",
   "execution_count": 10,
   "id": "393c7c63",
   "metadata": {},
   "outputs": [
    {
     "name": "stdout",
     "output_type": "stream",
     "text": [
      "3.Read a text file and print all unique words in the file sorted alphabetically\n"
     ]
    }
   ],
   "source": [
    "print(\"3.Read a text file and print all unique words in the file sorted alphabetically\")"
   ]
  },
  {
   "cell_type": "code",
   "execution_count": 11,
   "id": "0a062297",
   "metadata": {},
   "outputs": [
    {
     "name": "stdout",
     "output_type": "stream",
     "text": [
      "['a', 'accuracy', 'acts', 'algorithm', 'an', 'and', 'as', 'barometer', 'commonly-used', 'cost', 'data', 'descent', 'each', 'function', 'gauging', 'gradient', 'helps', 'is', 'iteration', 'its', 'learn', 'learning', 'machine', 'models', 'networks', 'neural', 'of', 'optimization', 'over', 'parameter', 'specifically', 'the', 'these', 'time', 'to', 'train', 'training', 'updates', 'which', 'with', 'within']\n"
     ]
    }
   ],
   "source": [
    "text_file = open('trial.txt', 'r')\n",
    "text = text_file.read()\n",
    "\n",
    "#cleaning\n",
    "text = text.lower()\n",
    "words = text.split()\n",
    "words = [word.strip('.,!;()[]') for word in words]\n",
    "words = [word.replace(\"'s\", '') for word in words]\n",
    "\n",
    "#finding unique\n",
    "unique = []\n",
    "for word in words:\n",
    "    if word not in unique:\n",
    "        unique.append(word)\n",
    "        \n",
    "#sort\n",
    "unique.sort()\n",
    "\n",
    "#print\n",
    "print(unique)"
   ]
  },
  {
   "cell_type": "code",
   "execution_count": 13,
   "id": "69b2b516",
   "metadata": {},
   "outputs": [
    {
     "name": "stdout",
     "output_type": "stream",
     "text": [
      "4. Solve polynomial equations by reading coefficients from the list.\n"
     ]
    }
   ],
   "source": [
    "print(\"4. Solve polynomial equations by reading coefficients from the list.\")"
   ]
  },
  {
   "cell_type": "code",
   "execution_count": 18,
   "id": "0c5d9a92",
   "metadata": {},
   "outputs": [
    {
     "name": "stdout",
     "output_type": "stream",
     "text": [
      "Enter the value for x : 1\n",
      "The result after solving equation is  1\n"
     ]
    }
   ],
   "source": [
    "poly = [1,2]\n",
    "\n",
    "x = int(input(\"Enter the value for x : \"))\n",
    "\n",
    "n = len(poly)\n",
    "\n",
    "\n",
    "result = 0\n",
    "\n",
    "\n",
    "for i in range(n):\n",
    "    Sum = poly[i]\n",
    "    \n",
    "    for j in range(n - i - 1):\n",
    "        Sum = Sum * x\n",
    "        result = result + Sum\n",
    "        \n",
    "print('The result after solving equation is ',result)"
   ]
  },
  {
   "cell_type": "code",
   "execution_count": 19,
   "id": "d3405941",
   "metadata": {},
   "outputs": [
    {
     "name": "stdout",
     "output_type": "stream",
     "text": [
      "5. Sort the given list according to the length of the elements present in the list.\n"
     ]
    }
   ],
   "source": [
    "print(\"5. Sort the given list according to the length of the elements present in the list.\")"
   ]
  },
  {
   "cell_type": "code",
   "execution_count": 21,
   "id": "36448467",
   "metadata": {},
   "outputs": [
    {
     "name": "stdout",
     "output_type": "stream",
     "text": [
      "['bob', 'alice', 'tommy', 'tonystark']\n"
     ]
    }
   ],
   "source": [
    "strings = [\"alice\", \"bob\", \"tonystark\", \"tommy\"]\n",
    "strings.sort(key = len)\n",
    "print(strings)"
   ]
  },
  {
   "cell_type": "code",
   "execution_count": 23,
   "id": "d2b0ce0e",
   "metadata": {},
   "outputs": [
    {
     "name": "stdout",
     "output_type": "stream",
     "text": [
      "6.Read a list of words and return the length of the longest one\n"
     ]
    }
   ],
   "source": [
    "print(\"6.Read a list of words and return the length of the longest one\")"
   ]
  },
  {
   "cell_type": "code",
   "execution_count": 24,
   "id": "10bb5387",
   "metadata": {},
   "outputs": [
    {
     "name": "stdout",
     "output_type": "stream",
     "text": [
      "Enter the number of elements in list:5\n",
      "Enter element 1:1\n",
      "Enter element 2:2\n",
      "Enter element 3:4\n",
      "Enter element 4:5\n",
      "Enter element 5:6\n",
      "The word with the longest length is:\n",
      "1\n"
     ]
    }
   ],
   "source": [
    "a=[]\n",
    "n= int(input(\"Enter the number of elements in list:\"))\n",
    "for x in range(0,n):\n",
    "    element=input(\"Enter element \" + str(x+1) + \":\")\n",
    "    a.append(element)\n",
    "max1=len(a[0])\n",
    "temp=a[0]\n",
    "for i in a:\n",
    "    if(len(i)>max1):\n",
    "        max1=len(i)\n",
    "        temp=i\n",
    "print(\"The word with the longest length is:\")\n",
    "print(temp)"
   ]
  },
  {
   "cell_type": "code",
   "execution_count": 26,
   "id": "77b8bea4",
   "metadata": {},
   "outputs": [
    {
     "name": "stdout",
     "output_type": "stream",
     "text": [
      "7. Find all numbers within the given range which are perfect squares and sum of all digits in the\n"
     ]
    }
   ],
   "source": [
    "print(\"7. Find all numbers within the given range which are perfect squares and sum of all digits in the\")"
   ]
  },
  {
   "cell_type": "code",
   "execution_count": 25,
   "id": "368ff56a",
   "metadata": {},
   "outputs": [
    {
     "name": "stdout",
     "output_type": "stream",
     "text": [
      "Enter lower range: 1\n",
      "Enter upper range: 7\n",
      "[1, 4]\n"
     ]
    }
   ],
   "source": [
    "l=int(input(\"Enter lower range: \"))\n",
    "u=int(input(\"Enter upper range: \"))\n",
    "a=[]\n",
    "a=[x for x in range(l,u+1) if (int(x**0.5))**2==x and\n",
    "sum(list(map(int,str(x))))<10]\n",
    "print(a)"
   ]
  },
  {
   "cell_type": "code",
   "execution_count": 27,
   "id": "22065c4d",
   "metadata": {},
   "outputs": [
    {
     "name": "stdout",
     "output_type": "stream",
     "text": [
      "8.Count the frequency of words appearing in a sentence using a dictionary.\n"
     ]
    }
   ],
   "source": [
    "print(\"8.Count the frequency of words appearing in a sentence using a dictionary.\")"
   ]
  },
  {
   "cell_type": "code",
   "execution_count": 29,
   "id": "632b4fe1",
   "metadata": {},
   "outputs": [
    {
     "name": "stdout",
     "output_type": "stream",
     "text": [
      "The frequency of words in the string are : \n",
      "{'owner': 1}\n"
     ]
    }
   ],
   "source": [
    "def word_count(str):\n",
    "    counts = dict()\n",
    "    words = str.split(\" \")\n",
    "    for word in words:\n",
    "        if word in counts:\n",
    "            counts[word] += 1\n",
    "    else:\n",
    "        counts[word] = 1\n",
    "    return counts\n",
    "print(\"The frequency of words in the string are : \")\n",
    "print( word_count('The dog carries the bag and returns the bag to the owner'))"
   ]
  },
  {
   "cell_type": "code",
   "execution_count": 1,
   "id": "aa53d1de",
   "metadata": {},
   "outputs": [
    {
     "name": "stdout",
     "output_type": "stream",
     "text": [
      "9.Create a dictionary with key as first character and value as words starting with that character.\n"
     ]
    }
   ],
   "source": [
    "print(\"9.Create a dictionary with key as first character and value as words starting with that character.\")"
   ]
  },
  {
   "cell_type": "code",
   "execution_count": 4,
   "id": "a9c0434d",
   "metadata": {},
   "outputs": [
    {
     "name": "stdout",
     "output_type": "stream",
     "text": [
      "Enter a string of characters : hola amigos\n",
      "{'h': ['hola'], 'a': ['amigos']}\n"
     ]
    }
   ],
   "source": [
    "string_input = str(input(\"Enter a string of characters : \"))\n",
    "words = string_input.split()\n",
    "dictionary = {}\n",
    "for word in words:\n",
    "    if (word[0] not in dictionary.keys()):\n",
    "        dictionary[word[0]] = []\n",
    "        dictionary[word[0]].append(word)\n",
    "    else:\n",
    "        if (word not in dictionary[word[0]]):\n",
    "            dictionary[word[0]].append(word)\n",
    "\n",
    "print(dictionary)"
   ]
  },
  {
   "cell_type": "code",
   "execution_count": 5,
   "id": "34d00382",
   "metadata": {},
   "outputs": [
    {
     "name": "stdout",
     "output_type": "stream",
     "text": [
      "10. Compute binary equivalent of a number without using recursion.\n"
     ]
    }
   ],
   "source": [
    "print(\"10. Compute binary equivalent of a number without using recursion.\")"
   ]
  },
  {
   "cell_type": "code",
   "execution_count": 6,
   "id": "248a7bdc",
   "metadata": {},
   "outputs": [
    {
     "name": "stdout",
     "output_type": "stream",
     "text": [
      "Enter a number: 23\n",
      "Binary Equivalent is: \n",
      "1 0 1 1 1 "
     ]
    }
   ],
   "source": [
    "n=int(input(\"Enter a number: \"))\n",
    "a=[]\n",
    "while(n>0):\n",
    "    dig=n%2\n",
    "    a.append(dig)\n",
    "    n=n//2\n",
    "a.reverse()\n",
    "print(\"Binary Equivalent is: \")\n",
    "for i in a:\n",
    "    print(i,end=\" \")"
   ]
  },
  {
   "cell_type": "code",
   "execution_count": 7,
   "id": "5a67fa8a",
   "metadata": {},
   "outputs": [
    {
     "name": "stdout",
     "output_type": "stream",
     "text": [
      "11. Read an input file and capitalize the first letter of every word in the file.\n"
     ]
    }
   ],
   "source": [
    "print(\"11. Read an input file and capitalize the first letter of every word in the file.\")"
   ]
  },
  {
   "cell_type": "code",
   "execution_count": 9,
   "id": "8b5e884b",
   "metadata": {},
   "outputs": [
    {
     "name": "stdout",
     "output_type": "stream",
     "text": [
      "Enter file name: trial.txt\n",
      "Gradient Descent Is An Optimization Algorithm Which Is Commonly-Used\n",
      "\n",
      "To Train\n",
      "\n",
      "Machine Learning Models And Neural Networks.\n",
      "\n",
      "Training Data Helps These Models Learn Over Time, And\n",
      "\n",
      "The Cost Function Within Gradient Descent Specifically Acts As A\n",
      "\n",
      "Barometer,\n",
      "\n",
      "Gauging Its Accuracy With Each Iteration Of\n",
      "\n",
      "Parameter Updates.\n"
     ]
    }
   ],
   "source": [
    "fname = input(\"Enter file name: \")\n",
    "\n",
    "with open(fname, 'r') as f:\n",
    "    for line in f:\n",
    "        l=line.title()\n",
    "        print(l)"
   ]
  },
  {
   "cell_type": "code",
   "execution_count": 10,
   "id": "16b1b604",
   "metadata": {},
   "outputs": [
    {
     "name": "stdout",
     "output_type": "stream",
     "text": [
      "12. Count the numbers of characters in the string and store them in a dictionary data structure.\n"
     ]
    }
   ],
   "source": [
    "print(\"12. Count the numbers of characters in the string and store them in a dictionary data structure.\")"
   ]
  },
  {
   "cell_type": "code",
   "execution_count": 12,
   "id": "04454a58",
   "metadata": {},
   "outputs": [
    {
     "name": "stdout",
     "output_type": "stream",
     "text": [
      "Enter a String : hello daidhasihd\n",
      "{'h': 3, 'e': 1, 'l': 2, 'o': 1, ' ': 1, 'd': 3, 'a': 2, 'i': 2, 's': 1}\n"
     ]
    }
   ],
   "source": [
    "str=input(\"Enter a String : \")\n",
    "dict = {}\n",
    "for i in str:\n",
    "    dict[i] = str.count(i)\n",
    "print (dict)"
   ]
  },
  {
   "cell_type": "code",
   "execution_count": null,
   "id": "5db4bd32",
   "metadata": {},
   "outputs": [],
   "source": []
  }
 ],
 "metadata": {
  "kernelspec": {
   "display_name": "Python 3 (ipykernel)",
   "language": "python",
   "name": "python3"
  },
  "language_info": {
   "codemirror_mode": {
    "name": "ipython",
    "version": 3
   },
   "file_extension": ".py",
   "mimetype": "text/x-python",
   "name": "python",
   "nbconvert_exporter": "python",
   "pygments_lexer": "ipython3",
   "version": "3.9.12"
  }
 },
 "nbformat": 4,
 "nbformat_minor": 5
}
